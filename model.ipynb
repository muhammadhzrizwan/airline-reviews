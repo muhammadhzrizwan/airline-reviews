{
 "cells": [
  {
   "cell_type": "code",
   "execution_count": 5,
   "id": "3a26346e",
   "metadata": {},
   "outputs": [],
   "source": [
    "import pandas as pd\n",
    "from sklearn.model_selection import train_test_split\n",
    "from sklearn.feature_extraction.text import TfidfVectorizer\n",
    "from sklearn.svm import SVC\n",
    "from sklearn.naive_bayes import MultinomialNB\n",
    "from sklearn.linear_model import LogisticRegression\n",
    "from sklearn.metrics import accuracy_score, classification_report, confusion_matrix\n",
    "from textblob import TextBlob  # Import TextBlob for sentiment analysis"
   ]
  },
  {
   "cell_type": "code",
   "execution_count": 7,
   "id": "90010842",
   "metadata": {},
   "outputs": [],
   "source": [
    "df = pd.read_csv(\"BA_AirlineReviews.csv\")"
   ]
  },
  {
   "cell_type": "code",
   "execution_count": 8,
   "id": "355d30ba",
   "metadata": {},
   "outputs": [],
   "source": [
    "numeric_columns = df.select_dtypes(include=['float64', 'int64']).columns\n",
    "numeric_df = df[numeric_columns]"
   ]
  },
  {
   "cell_type": "code",
   "execution_count": 9,
   "id": "16a3a5a8",
   "metadata": {},
   "outputs": [
    {
     "name": "stdout",
     "output_type": "stream",
     "text": [
      "\n",
      "Missing Values in Numeric Columns:\n",
      "OverallRating               5\n",
      "SeatComfort               116\n",
      "CabinStaffService         127\n",
      "GroundService             846\n",
      "ValueForMoney               1\n",
      "Food&Beverages            386\n",
      "InflightEntertainment    1150\n",
      "Wifi&Connectivity        3092\n",
      "dtype: int64\n"
     ]
    }
   ],
   "source": [
    "missing_values = numeric_df.isnull().sum()\n",
    "print(\"\\nMissing Values in Numeric Columns:\")\n",
    "print(missing_values[missing_values > 0])"
   ]
  },
  {
   "cell_type": "code",
   "execution_count": 10,
   "id": "fd66fbb8",
   "metadata": {},
   "outputs": [],
   "source": [
    "df.dropna(inplace=True)"
   ]
  },
  {
   "cell_type": "code",
   "execution_count": 22,
   "id": "180ed7b6",
   "metadata": {},
   "outputs": [],
   "source": [
    "X_train, X_test, y_train, y_test = train_test_split(df['ReviewBody'], df['Recommended'], test_size=0.2, random_state=42)"
   ]
  },
  {
   "cell_type": "code",
   "execution_count": 11,
   "id": "a3d921aa",
   "metadata": {},
   "outputs": [],
   "source": [
    "def analyze_sentiment(text):\n",
    "    analysis = TextBlob(text)\n",
    "    # Assign sentiment labels\n",
    "    if analysis.sentiment.polarity > 0:\n",
    "        return 'positive'\n",
    "    elif analysis.sentiment.polarity == 0:\n",
    "        return 'neutral'\n",
    "    else:\n",
    "        return 'negative'"
   ]
  },
  {
   "cell_type": "code",
   "execution_count": 12,
   "id": "1f77baca",
   "metadata": {},
   "outputs": [],
   "source": [
    "def sentiment_analysis_model(X_train, y_train, X_test):\n",
    "    vectorizer = TfidfVectorizer()\n",
    "    X_train_vectorized = vectorizer.fit_transform(X_train)\n",
    "    X_test_vectorized = vectorizer.transform(X_test)\n",
    "\n",
    "    model = SVC(C=1.0, kernel='linear', gamma='auto')\n",
    "    model.fit(X_train_vectorized, y_train)\n",
    "    y_pred = model.predict(X_test_vectorized)\n",
    "\n",
    "    return pd.Series(y_pred, index=X_test.index)"
   ]
  },
  {
   "cell_type": "code",
   "execution_count": 13,
   "id": "4c8569ad",
   "metadata": {},
   "outputs": [],
   "source": [
    "def naive_bayes_model(X_train, y_train, X_test):\n",
    "    vectorizer = TfidfVectorizer()\n",
    "    X_train_vectorized = vectorizer.fit_transform(X_train)\n",
    "    X_test_vectorized = vectorizer.transform(X_test)\n",
    "\n",
    "    model = MultinomialNB()\n",
    "    model.fit(X_train_vectorized, y_train)\n",
    "    y_pred = model.predict(X_test_vectorized)\n",
    "\n",
    "    return pd.Series(y_pred, index=X_test.index)"
   ]
  },
  {
   "cell_type": "code",
   "execution_count": 14,
   "id": "967a99d4",
   "metadata": {},
   "outputs": [],
   "source": [
    "def logistic_regression_model(X_train, y_train, X_test):\n",
    "    vectorizer = TfidfVectorizer()\n",
    "    X_train_vectorized = vectorizer.fit_transform(X_train)\n",
    "    X_test_vectorized = vectorizer.transform(X_test)\n",
    "\n",
    "    model = LogisticRegression()\n",
    "    model.fit(X_train_vectorized, y_train)\n",
    "    y_pred = model.predict(X_test_vectorized)\n",
    "\n",
    "    return pd.Series(y_pred, index=X_test.index)"
   ]
  },
  {
   "cell_type": "code",
   "execution_count": 16,
   "id": "a9e1de33",
   "metadata": {},
   "outputs": [
    {
     "data": {
      "text/html": [
       "<div>\n",
       "<style scoped>\n",
       "    .dataframe tbody tr th:only-of-type {\n",
       "        vertical-align: middle;\n",
       "    }\n",
       "\n",
       "    .dataframe tbody tr th {\n",
       "        vertical-align: top;\n",
       "    }\n",
       "\n",
       "    .dataframe thead th {\n",
       "        text-align: right;\n",
       "    }\n",
       "</style>\n",
       "<table border=\"1\" class=\"dataframe\">\n",
       "  <thead>\n",
       "    <tr style=\"text-align: right;\">\n",
       "      <th></th>\n",
       "      <th>Unnamed: 0</th>\n",
       "      <th>OverallRating</th>\n",
       "      <th>ReviewHeader</th>\n",
       "      <th>Name</th>\n",
       "      <th>Datetime</th>\n",
       "      <th>VerifiedReview</th>\n",
       "      <th>ReviewBody</th>\n",
       "      <th>TypeOfTraveller</th>\n",
       "      <th>SeatType</th>\n",
       "      <th>Route</th>\n",
       "      <th>...</th>\n",
       "      <th>SeatComfort</th>\n",
       "      <th>CabinStaffService</th>\n",
       "      <th>GroundService</th>\n",
       "      <th>ValueForMoney</th>\n",
       "      <th>Recommended</th>\n",
       "      <th>Aircraft</th>\n",
       "      <th>Food&amp;Beverages</th>\n",
       "      <th>InflightEntertainment</th>\n",
       "      <th>Wifi&amp;Connectivity</th>\n",
       "      <th>Sentiment</th>\n",
       "    </tr>\n",
       "  </thead>\n",
       "  <tbody>\n",
       "    <tr>\n",
       "      <th>1</th>\n",
       "      <td>1</td>\n",
       "      <td>3.0</td>\n",
       "      <td>\"do not upgrade members based on status\"</td>\n",
       "      <td>Austin Jones</td>\n",
       "      <td>19th November 2023</td>\n",
       "      <td>True</td>\n",
       "      <td>I recently had a delay on British Airways from...</td>\n",
       "      <td>Business</td>\n",
       "      <td>Economy Class</td>\n",
       "      <td>Brussels to London</td>\n",
       "      <td>...</td>\n",
       "      <td>2.0</td>\n",
       "      <td>3.0</td>\n",
       "      <td>1.0</td>\n",
       "      <td>2.0</td>\n",
       "      <td>no</td>\n",
       "      <td>A320</td>\n",
       "      <td>1.0</td>\n",
       "      <td>2.0</td>\n",
       "      <td>2.0</td>\n",
       "      <td>positive</td>\n",
       "    </tr>\n",
       "    <tr>\n",
       "      <th>8</th>\n",
       "      <td>8</td>\n",
       "      <td>2.0</td>\n",
       "      <td>\"Angry, disappointed, and unsatisfied\"</td>\n",
       "      <td>Massimo Tricca</td>\n",
       "      <td>5th November 2023</td>\n",
       "      <td>False</td>\n",
       "      <td>Angry, disappointed, and unsatisfied. My route...</td>\n",
       "      <td>Family Leisure</td>\n",
       "      <td>Economy Class</td>\n",
       "      <td>London Heatrow to Atlanta</td>\n",
       "      <td>...</td>\n",
       "      <td>4.0</td>\n",
       "      <td>5.0</td>\n",
       "      <td>3.0</td>\n",
       "      <td>5.0</td>\n",
       "      <td>yes</td>\n",
       "      <td>Boeing 777</td>\n",
       "      <td>4.0</td>\n",
       "      <td>4.0</td>\n",
       "      <td>3.0</td>\n",
       "      <td>positive</td>\n",
       "    </tr>\n",
       "    <tr>\n",
       "      <th>25</th>\n",
       "      <td>25</td>\n",
       "      <td>5.0</td>\n",
       "      <td>\"Club Europe is simply a joke\"</td>\n",
       "      <td>M Dale</td>\n",
       "      <td>14th October 2023</td>\n",
       "      <td>True</td>\n",
       "      <td>I am a frequent flyer with BA and have been fo...</td>\n",
       "      <td>Business</td>\n",
       "      <td>Business Class</td>\n",
       "      <td>London to Istanbul</td>\n",
       "      <td>...</td>\n",
       "      <td>3.0</td>\n",
       "      <td>4.0</td>\n",
       "      <td>3.0</td>\n",
       "      <td>2.0</td>\n",
       "      <td>no</td>\n",
       "      <td>A320</td>\n",
       "      <td>1.0</td>\n",
       "      <td>1.0</td>\n",
       "      <td>1.0</td>\n",
       "      <td>positive</td>\n",
       "    </tr>\n",
       "    <tr>\n",
       "      <th>33</th>\n",
       "      <td>33</td>\n",
       "      <td>10.0</td>\n",
       "      <td>\"Excellent service levels\"</td>\n",
       "      <td>Peter Costello</td>\n",
       "      <td>7th October 2023</td>\n",
       "      <td>True</td>\n",
       "      <td>Excellent service levels, proactive crew and s...</td>\n",
       "      <td>Solo Leisure</td>\n",
       "      <td>First Class</td>\n",
       "      <td>London to New York JFK</td>\n",
       "      <td>...</td>\n",
       "      <td>5.0</td>\n",
       "      <td>5.0</td>\n",
       "      <td>5.0</td>\n",
       "      <td>5.0</td>\n",
       "      <td>yes</td>\n",
       "      <td>Boeing 777</td>\n",
       "      <td>5.0</td>\n",
       "      <td>4.0</td>\n",
       "      <td>5.0</td>\n",
       "      <td>positive</td>\n",
       "    </tr>\n",
       "    <tr>\n",
       "      <th>34</th>\n",
       "      <td>34</td>\n",
       "      <td>1.0</td>\n",
       "      <td>\"British Airways was absolutely shocking\"</td>\n",
       "      <td>Kane Kelly</td>\n",
       "      <td>5th October 2023</td>\n",
       "      <td>False</td>\n",
       "      <td>Booked a very special holiday for me and my pa...</td>\n",
       "      <td>Couple Leisure</td>\n",
       "      <td>Business Class</td>\n",
       "      <td>Heathrow to Marseille</td>\n",
       "      <td>...</td>\n",
       "      <td>1.0</td>\n",
       "      <td>1.0</td>\n",
       "      <td>1.0</td>\n",
       "      <td>1.0</td>\n",
       "      <td>no</td>\n",
       "      <td>BA366</td>\n",
       "      <td>1.0</td>\n",
       "      <td>1.0</td>\n",
       "      <td>1.0</td>\n",
       "      <td>positive</td>\n",
       "    </tr>\n",
       "  </tbody>\n",
       "</table>\n",
       "<p>5 rows × 21 columns</p>\n",
       "</div>"
      ],
      "text/plain": [
       "    Unnamed: 0  OverallRating                               ReviewHeader  \\\n",
       "1            1            3.0   \"do not upgrade members based on status\"   \n",
       "8            8            2.0     \"Angry, disappointed, and unsatisfied\"   \n",
       "25          25            5.0             \"Club Europe is simply a joke\"   \n",
       "33          33           10.0                 \"Excellent service levels\"   \n",
       "34          34            1.0  \"British Airways was absolutely shocking\"   \n",
       "\n",
       "              Name            Datetime  VerifiedReview  \\\n",
       "1     Austin Jones  19th November 2023            True   \n",
       "8   Massimo Tricca   5th November 2023           False   \n",
       "25          M Dale   14th October 2023            True   \n",
       "33  Peter Costello    7th October 2023            True   \n",
       "34      Kane Kelly    5th October 2023           False   \n",
       "\n",
       "                                           ReviewBody TypeOfTraveller  \\\n",
       "1   I recently had a delay on British Airways from...        Business   \n",
       "8   Angry, disappointed, and unsatisfied. My route...  Family Leisure   \n",
       "25  I am a frequent flyer with BA and have been fo...        Business   \n",
       "33  Excellent service levels, proactive crew and s...    Solo Leisure   \n",
       "34  Booked a very special holiday for me and my pa...  Couple Leisure   \n",
       "\n",
       "          SeatType                      Route  ... SeatComfort  \\\n",
       "1    Economy Class         Brussels to London  ...         2.0   \n",
       "8    Economy Class  London Heatrow to Atlanta  ...         4.0   \n",
       "25  Business Class         London to Istanbul  ...         3.0   \n",
       "33     First Class     London to New York JFK  ...         5.0   \n",
       "34  Business Class      Heathrow to Marseille  ...         1.0   \n",
       "\n",
       "    CabinStaffService  GroundService  ValueForMoney  Recommended    Aircraft  \\\n",
       "1                 3.0            1.0            2.0           no        A320   \n",
       "8                 5.0            3.0            5.0          yes  Boeing 777   \n",
       "25                4.0            3.0            2.0           no        A320   \n",
       "33                5.0            5.0            5.0          yes  Boeing 777   \n",
       "34                1.0            1.0            1.0           no       BA366   \n",
       "\n",
       "   Food&Beverages  InflightEntertainment  Wifi&Connectivity  Sentiment  \n",
       "1             1.0                    2.0                2.0   positive  \n",
       "8             4.0                    4.0                3.0   positive  \n",
       "25            1.0                    1.0                1.0   positive  \n",
       "33            5.0                    4.0                5.0   positive  \n",
       "34            1.0                    1.0                1.0   positive  \n",
       "\n",
       "[5 rows x 21 columns]"
      ]
     },
     "execution_count": 16,
     "metadata": {},
     "output_type": "execute_result"
    }
   ],
   "source": [
    "df['Sentiment'] = df['ReviewBody'].apply(analyze_sentiment)\n",
    "df.head()"
   ]
  },
  {
   "cell_type": "code",
   "execution_count": 18,
   "id": "f13741c6",
   "metadata": {},
   "outputs": [
    {
     "name": "stdout",
     "output_type": "stream",
     "text": [
      "SVM Accuracy: 0.9242424242424242\n",
      "SVM Classification Report:\n",
      "               precision    recall  f1-score   support\n",
      "\n",
      "          no       0.88      1.00      0.94        38\n",
      "         yes       1.00      0.82      0.90        28\n",
      "\n",
      "    accuracy                           0.92        66\n",
      "   macro avg       0.94      0.91      0.92        66\n",
      "weighted avg       0.93      0.92      0.92        66\n",
      "\n",
      "SVM Confusion Matrix:\n",
      " [[38  0]\n",
      " [ 5 23]]\n"
     ]
    }
   ],
   "source": [
    "# Perform Sentiment Analysis using SVM\n",
    "y_pred_sentiment = sentiment_analysis_model(X_train, y_train, X_test)\n",
    "accuracy_sentiment = accuracy_score(y_test, y_pred_sentiment)\n",
    "print(f'SVM Accuracy: {accuracy_sentiment}')\n",
    "print('SVM Classification Report:\\n', classification_report(y_test, y_pred_sentiment))\n",
    "print('SVM Confusion Matrix:\\n', confusion_matrix(y_test, y_pred_sentiment))"
   ]
  },
  {
   "cell_type": "code",
   "execution_count": 23,
   "id": "1eeeb42a",
   "metadata": {},
   "outputs": [
    {
     "name": "stdout",
     "output_type": "stream",
     "text": [
      "Naive Bayes Accuracy: 0.5757575757575758\n",
      "Naive Bayes Classification Report:\n",
      "               precision    recall  f1-score   support\n",
      "\n",
      "          no       0.58      1.00      0.73        38\n",
      "         yes       0.00      0.00      0.00        28\n",
      "\n",
      "    accuracy                           0.58        66\n",
      "   macro avg       0.29      0.50      0.37        66\n",
      "weighted avg       0.33      0.58      0.42        66\n",
      "\n"
     ]
    },
    {
     "name": "stderr",
     "output_type": "stream",
     "text": [
      "C:\\Users\\Personal\\anaconda3\\Lib\\site-packages\\sklearn\\metrics\\_classification.py:1469: UndefinedMetricWarning: Precision and F-score are ill-defined and being set to 0.0 in labels with no predicted samples. Use `zero_division` parameter to control this behavior.\n",
      "  _warn_prf(average, modifier, msg_start, len(result))\n",
      "C:\\Users\\Personal\\anaconda3\\Lib\\site-packages\\sklearn\\metrics\\_classification.py:1469: UndefinedMetricWarning: Precision and F-score are ill-defined and being set to 0.0 in labels with no predicted samples. Use `zero_division` parameter to control this behavior.\n",
      "  _warn_prf(average, modifier, msg_start, len(result))\n",
      "C:\\Users\\Personal\\anaconda3\\Lib\\site-packages\\sklearn\\metrics\\_classification.py:1469: UndefinedMetricWarning: Precision and F-score are ill-defined and being set to 0.0 in labels with no predicted samples. Use `zero_division` parameter to control this behavior.\n",
      "  _warn_prf(average, modifier, msg_start, len(result))\n"
     ]
    }
   ],
   "source": [
    "# Perform Naive Bayes analysis\n",
    "y_pred_nb = naive_bayes_model(X_train, y_train, X_test)\n",
    "accuracy_nb = accuracy_score(y_test, y_pred_nb)\n",
    "print(f'Naive Bayes Accuracy: {accuracy_nb}')\n",
    "print('Naive Bayes Classification Report:\\n', classification_report(y_test, y_pred_nb))\n",
    "#print('Naive Bayes Confusion Matrix:\\n', confusion_matrix(y_test, y_pred_nb))"
   ]
  },
  {
   "cell_type": "code",
   "execution_count": 21,
   "id": "c94030ee",
   "metadata": {},
   "outputs": [
    {
     "name": "stdout",
     "output_type": "stream",
     "text": [
      "Logistic Regression Accuracy: 0.7575757575757576\n",
      "Logistic Regression Classification Report:\n",
      "               precision    recall  f1-score   support\n",
      "\n",
      "          no       0.70      1.00      0.83        38\n",
      "         yes       1.00      0.43      0.60        28\n",
      "\n",
      "    accuracy                           0.76        66\n",
      "   macro avg       0.85      0.71      0.71        66\n",
      "weighted avg       0.83      0.76      0.73        66\n",
      "\n"
     ]
    }
   ],
   "source": [
    "# Perform Logistic Regression analysis\n",
    "y_pred_lr = logistic_regression_model(X_train, y_train, X_test)\n",
    "accuracy_lr = accuracy_score(y_test, y_pred_lr)\n",
    "print(f'Logistic Regression Accuracy: {accuracy_lr}')\n",
    "print('Logistic Regression Classification Report:\\n', classification_report(y_test, y_pred_lr))\n",
    "#print('Logistic Regression Confusion Matrix:\\n', confusion_matrix(y_test, y_pred_lr))"
   ]
  },
  {
   "cell_type": "code",
   "execution_count": 25,
   "id": "45f0edb4",
   "metadata": {},
   "outputs": [
    {
     "data": {
      "text/plain": [
       "(327, 21)"
      ]
     },
     "execution_count": 25,
     "metadata": {},
     "output_type": "execute_result"
    }
   ],
   "source": [
    "df.shape"
   ]
  },
  {
   "cell_type": "code",
   "execution_count": null,
   "id": "3d5eead5",
   "metadata": {},
   "outputs": [],
   "source": []
  }
 ],
 "metadata": {
  "kernelspec": {
   "display_name": "Python 3 (ipykernel)",
   "language": "python",
   "name": "python3"
  },
  "language_info": {
   "codemirror_mode": {
    "name": "ipython",
    "version": 3
   },
   "file_extension": ".py",
   "mimetype": "text/x-python",
   "name": "python",
   "nbconvert_exporter": "python",
   "pygments_lexer": "ipython3",
   "version": "3.11.4"
  }
 },
 "nbformat": 4,
 "nbformat_minor": 5
}
